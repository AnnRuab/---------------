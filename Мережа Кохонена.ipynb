{
 "cells": [
  {
   "attachments": {},
   "cell_type": "markdown",
   "metadata": {},
   "source": [
    "За допомогою мережі Кохонена розв’язати задачу розпізнавання зображень. Для цього необхідно сформувати не менше 10 чорно-білих зображень розміром 5*5 (в якості зображень слід вибрати літери свого імені та прізвища, а також числа свого варіанту) і подавати на вхід нейронної мережі. При навчанні з кожним зображенням навчальної вибірки будуть співставлені деякі нейрони мережі Кохонена. В свою чергу, при подачі незалежного вектору буде вибрано нейрон-переможець, який відповідає деякому зображенню.\n",
    "Ефективність роботи мережі необхідно перевірити на тестових даних. Для цього до всіх зображень навчальної вибірки слід додати шум — випадковим чином змінюючи значення пікселя зображення на протилежне. Побудувати графік залежності кількості вірно розпізнаних зображень навчальної вибірки від значення проценту шуму (відносної кількості зашумлених пікселів зображення).\n",
    "\n",
    "\n"
   ]
  },
  {
   "cell_type": "code",
   "execution_count": 9,
   "metadata": {},
   "outputs": [],
   "source": [
    "import numpy as np\n",
    "import random as rd\n",
    "import seaborn as sb\n",
    "import matplotlib.pyplot as plt\n",
    "import math\n",
    "import copy\n",
    "import pandas as pd\n",
    "\n",
    "pixels_list = [  \n",
    "                \n",
    "                [ 1, 1, 1, -1, -1,\n",
    "                  1, -1, -1, 1, -1,\n",
    "                  1, -1, -1, 1, -1,\n",
    "                  1, -1, -1, 1, -1,\n",
    "                  1, 1, 1, 1, -1],#D\n",
    "\n",
    "                [-1, -1, 1, -1, -1,   \n",
    "                 -1, 1, -1, 1, -1,\n",
    "                  1, -1, -1, -1, 1,\n",
    "                  1, 1, 1, 1, 1,\n",
    "                  1, -1, -1, -1, 1],#A\n",
    "\n",
    "                [-1, 1, 1, -1, -1,\n",
    "                 -1, 1, -1, 1, -1,\n",
    "                 -1, 1, 1, -1, -1,\n",
    "                 -1, 1, -1, 1, -1,\n",
    "                - 1, 1, -1, 1, -1], #R\n",
    "\n",
    "                [1, 1, 1, 1, 1,\n",
    "                -1, -1, 1, -1, -1,\n",
    "                -1, -1, 1, -1, -1,\n",
    "                -1, -1, 1, -1, -1,\n",
    "                 1, 1, 1, 1, 1], #I\n",
    "\n",
    "                [-1, -1, 1, -1, -1,   \n",
    "                 -1, 1, -1, 1, -1,\n",
    "                  1, -1, -1, -1, 1,\n",
    "                  1, 1, 1, 1, 1,\n",
    "                  1, -1, -1, -1, 1],#A\n",
    "        \n",
    "                [-1, -1, -1, -1, -1,   \n",
    "                 -1, -1, -1, -1, -1,\n",
    "                 -1, -1, -1, -1, -1,\n",
    "                 -1, -1, -1, -1, -1,\n",
    "                 -1, -1, -1, -1, -1],#space\n",
    "\n",
    "                [1, -1, -1, 1, -1,\n",
    "                 1, -1, 1, -1, -1,\n",
    "                 1, 1, -1, -1, -1,\n",
    "                 1, -1, 1, -1, -1,\n",
    "                 1, -1, -1, 1, -1], #K\n",
    "\n",
    "                [1, 1, 1, 1, 1,\n",
    "                -1, -1, 1, -1, -1,\n",
    "                -1, -1, 1, -1, -1,\n",
    "                -1, -1, 1, -1, -1,\n",
    "                 1, 1, 1, 1, 1], #I\n",
    "\n",
    "                [-1, -1, -1, -1, -1,\n",
    "                 -1, -1, -1, -1, -1,\n",
    "                 -1, -1, -1, -1, -1,\n",
    "                  1, 1, 1, 1, 1,\n",
    "                 -1, -1, -1, -1, -1], #-\n",
    "\n",
    "                [1, 1, 1, 1, 1,\n",
    "                 1, -1, -1, -1, 1,\n",
    "                 1, -1, -1, -1, 1,\n",
    "                 1, -1, -1, -1, 1,\n",
    "                 1, 1, 1, 1, 1], #0\n",
    "\n",
    "                 [1, 1, 1, 1, 1,\n",
    "                 -1, -1, -1, -1, 1,\n",
    "                  1, 1, 1, 1, 1,\n",
    "                  1, -1, -1, -1, -1,\n",
    "                  1, 1, 1, 1, 1], #2\n",
    "                  ]"
   ]
  },
  {
   "cell_type": "code",
   "execution_count": 10,
   "metadata": {},
   "outputs": [
    {
     "name": "stdout",
     "output_type": "stream",
     "text": [
      "\n",
      "Opposite Pixels List:\n",
      "[1, 1, 1, -1, 1, 1, 1, -1, 1, -1, -1, -1, -1, -1, -1, 1, -1, 1, -1, -1, 1, 1, 1, 1, 1]\n",
      "[-1, -1, -1, -1, -1, -1, 1, -1, 1, -1, -1, -1, -1, -1, -1, -1, 1, 1, 1, 1, 1, -1, -1, -1, -1]\n",
      "[-1, 1, 1, 1, -1, -1, 1, -1, -1, 1, -1, 1, 1, -1, -1, -1, 1, -1, 1, -1, -1, 1, -1, -1, -1]\n",
      "[1, 1, 1, 1, 1, -1, -1, 1, -1, -1, -1, -1, 1, 1, -1, -1, -1, 1, -1, -1, 1, 1, 1, -1, 1]\n",
      "[-1, -1, 1, -1, -1, -1, 1, -1, 1, 1, 1, -1, 1, -1, 1, 1, 1, 1, 1, 1, 1, -1, -1, -1, 1]\n",
      "[-1, -1, -1, -1, -1, -1, -1, -1, -1, -1, -1, -1, -1, 1, -1, -1, -1, -1, -1, -1, -1, -1, -1, -1, -1]\n",
      "[-1, 1, 1, 1, 1, 1, -1, -1, -1, -1, 1, 1, -1, -1, -1, 1, -1, 1, 1, -1, 1, -1, -1, 1, -1]\n",
      "[1, 1, 1, 1, 1, -1, -1, 1, -1, -1, -1, 1, 1, -1, 1, -1, -1, 1, -1, -1, 1, -1, 1, 1, 1]\n",
      "[-1, -1, -1, -1, -1, -1, 1, -1, 1, 1, 1, -1, 1, 1, -1, 1, 1, 1, -1, 1, -1, -1, -1, -1, -1]\n",
      "[1, 1, 1, 1, 1, 1, -1, -1, -1, 1, 1, -1, -1, -1, 1, 1, -1, -1, 1, 1, 1, 1, -1, 1, 1]\n",
      "[1, 1, 1, 1, -1, -1, 1, 1, -1, 1, 1, 1, 1, 1, 1, 1, -1, -1, -1, -1, 1, 1, -1, 1, 1]\n"
     ]
    }
   ],
   "source": [
    "import random\n",
    "pixels_list2 = []\n",
    "for pixels in pixels_list:\n",
    "    opposite_pixels = []\n",
    "    for p in pixels:\n",
    "        if random.random() <= 0.15:\n",
    "            opposite_pixels.append(-p)\n",
    "        else:\n",
    "            opposite_pixels.append(p)\n",
    "    pixels_list2.append(opposite_pixels)\n",
    "\n",
    "print(\"\\nOpposite Pixels List:\")\n",
    "for row in pixels_list2:\n",
    "    print(row)"
   ]
  },
  {
   "cell_type": "code",
   "execution_count": 11,
   "metadata": {},
   "outputs": [
    {
     "name": "stdout",
     "output_type": "stream",
     "text": [
      "\n",
      "Opposite Pixels List:\n",
      "[1, -1, 1, -1, -1, 1, -1, -1, 1, -1, 1, -1, -1, 1, -1, 1, -1, -1, 1, 1, 1, 1, 1, 1, -1]\n",
      "[-1, -1, 1, -1, -1, -1, 1, -1, 1, -1, 1, -1, -1, -1, 1, 1, 1, 1, 1, 1, 1, 1, 1, -1, 1]\n",
      "[-1, 1, -1, -1, -1, -1, 1, -1, 1, -1, -1, 1, 1, -1, -1, -1, 1, -1, 1, -1, -1, -1, 1, -1, 1]\n",
      "[1, 1, 1, 1, 1, -1, 1, 1, 1, -1, -1, -1, -1, -1, 1, -1, -1, 1, -1, -1, 1, 1, -1, 1, 1]\n",
      "[-1, -1, 1, -1, 1, -1, 1, -1, 1, -1, 1, -1, 1, -1, 1, -1, 1, 1, 1, 1, 1, 1, -1, -1, 1]\n",
      "[-1, -1, -1, -1, 1, -1, -1, -1, 1, -1, 1, -1, 1, 1, -1, -1, -1, -1, -1, 1, -1, 1, -1, -1, -1]\n",
      "[1, -1, -1, 1, 1, 1, 1, -1, -1, -1, 1, 1, -1, -1, 1, 1, 1, 1, -1, -1, 1, -1, -1, 1, -1]\n",
      "[1, 1, 1, 1, 1, 1, -1, 1, -1, 1, -1, -1, 1, -1, -1, -1, -1, 1, -1, -1, 1, 1, 1, -1, 1]\n",
      "[-1, -1, 1, -1, 1, -1, -1, -1, -1, -1, -1, -1, 1, -1, -1, 1, 1, 1, 1, 1, -1, 1, -1, -1, 1]\n",
      "[1, -1, 1, 1, 1, -1, -1, -1, -1, 1, -1, 1, -1, -1, 1, 1, -1, -1, -1, -1, 1, 1, 1, 1, 1]\n",
      "[-1, 1, 1, 1, 1, -1, -1, -1, 1, 1, 1, 1, 1, 1, -1, 1, 1, -1, 1, -1, 1, 1, 1, 1, 1]\n"
     ]
    }
   ],
   "source": [
    "import random\n",
    "pixels_list3 = []\n",
    "for pixels in pixels_list:\n",
    "    opposite_pixels = []\n",
    "    for p in pixels:\n",
    "        if random.random() <= 0.20:\n",
    "            opposite_pixels.append(-p)\n",
    "        else:\n",
    "            opposite_pixels.append(p)\n",
    "    pixels_list3.append(opposite_pixels)\n",
    "\n",
    "print(\"\\nOpposite Pixels List:\")\n",
    "for row in pixels_list3:\n",
    "    print(row)"
   ]
  },
  {
   "cell_type": "code",
   "execution_count": 12,
   "metadata": {},
   "outputs": [
    {
     "name": "stdout",
     "output_type": "stream",
     "text": [
      "\n",
      "Opposite Pixels List:\n",
      "[1, -1, 1, -1, -1, 1, -1, -1, 1, -1, 1, -1, -1, 1, -1, 1, -1, -1, 1, 1, 1, 1, 1, 1, -1]\n",
      "[-1, -1, 1, -1, -1, -1, 1, -1, 1, -1, 1, -1, -1, -1, 1, 1, 1, 1, 1, 1, 1, 1, 1, -1, 1]\n",
      "[-1, 1, -1, -1, -1, -1, 1, -1, 1, -1, -1, 1, 1, -1, -1, -1, 1, -1, 1, -1, -1, -1, 1, -1, 1]\n",
      "[1, 1, 1, 1, 1, -1, 1, 1, 1, -1, -1, -1, -1, -1, 1, -1, -1, 1, -1, -1, 1, 1, -1, 1, 1]\n",
      "[-1, -1, 1, -1, 1, -1, 1, -1, 1, -1, 1, -1, 1, -1, 1, -1, 1, 1, 1, 1, 1, 1, -1, -1, 1]\n",
      "[-1, -1, -1, -1, 1, -1, -1, -1, 1, -1, 1, -1, 1, 1, -1, -1, -1, -1, -1, 1, -1, 1, -1, -1, -1]\n",
      "[1, -1, -1, 1, 1, 1, 1, -1, -1, -1, 1, 1, -1, -1, 1, 1, 1, 1, -1, -1, 1, -1, -1, 1, -1]\n",
      "[1, 1, 1, 1, 1, 1, -1, 1, -1, 1, -1, -1, 1, -1, -1, -1, -1, 1, -1, -1, 1, 1, 1, -1, 1]\n",
      "[-1, -1, 1, -1, 1, -1, -1, -1, -1, -1, -1, -1, 1, -1, -1, 1, 1, 1, 1, 1, -1, 1, -1, -1, 1]\n",
      "[1, -1, 1, 1, 1, -1, -1, -1, -1, 1, -1, 1, -1, -1, 1, 1, -1, -1, -1, -1, 1, 1, 1, 1, 1]\n",
      "[-1, 1, 1, 1, 1, -1, -1, -1, 1, 1, 1, 1, 1, 1, -1, 1, 1, -1, 1, -1, 1, 1, 1, 1, 1]\n"
     ]
    }
   ],
   "source": [
    "import random\n",
    "pixels_list4 = []\n",
    "for pixels in pixels_list:\n",
    "    opposite_pixels = []\n",
    "    for p in pixels:\n",
    "        if random.random() <= 0.10:\n",
    "            opposite_pixels.append(-p)\n",
    "        else:\n",
    "            opposite_pixels.append(p)\n",
    "    pixels_list4.append(opposite_pixels)\n",
    "\n",
    "print(\"\\nOpposite Pixels List:\")\n",
    "for row in pixels_list3:\n",
    "    print(row)"
   ]
  },
  {
   "cell_type": "code",
   "execution_count": 13,
   "metadata": {},
   "outputs": [],
   "source": [
    "Coord = [[0, 0], [0,1], [0,2], [0,3],\n",
    " [1, 0], [1,1], [1,2], [1,3],\n",
    " [2, 0], [2,1], [2,2], [2,3],\n",
    " [3, 0], [3,1], [3,2], [3,3]]\n",
    "W = np.random.uniform(0,1, (16, 25))\n",
    "nu0 = 0.1\n",
    "t2 = 1000\n",
    "sg = 2\n",
    "\n",
    "def noise(I = []):\n",
    " print(I[0])\n",
    " pixels_list2=copy.deepcopy(I)\n",
    " for i in range(len(pixels_list)):\n",
    "    for j in range(3):\n",
    "        r = rd.randint(0,len(I[0])-1)\n",
    "        pixels_list2[i][r]*=-1\n",
    " return pixels_list2\n"
   ]
  },
  {
   "cell_type": "code",
   "execution_count": 14,
   "metadata": {},
   "outputs": [],
   "source": [
    "def t1(): \n",
    "    return 1000/(math.log(sg))\n",
    "def nu(n):\n",
    "    return nu0*math.exp(-n/t2)\n",
    "def sgn(n):\n",
    "    return sg*math.exp(-n/t1())\n",
    "def h(n,i,j) :\n",
    "    return math.exp(-math.pow(-\n",
    "np.linalg.norm(np.array(Coord[i])-\n",
    "np.array(Coord[j])),2)/(2*math.pow(sgn(n),2)))\n",
    "\n",
    "def test(pixels_list=[],W=[]):\n",
    "    T = []\n",
    "    for q in range(len(pixels_list)):\n",
    "        n=15\n",
    "        min = np.linalg.norm(pixels_list[q]-W[15])\n",
    "        for i in range(15):\n",
    "            j = np.linalg.norm(pixels_list[q]-W[i])\n",
    "            if j < min:\n",
    "                min = j\n",
    "                n = i\n",
    "        T.append(n)\n",
    "    return T"
   ]
  },
  {
   "cell_type": "code",
   "execution_count": 15,
   "metadata": {},
   "outputs": [
    {
     "data": {
      "image/png": "[encoded data removed]",
      "text/plain": [
       "<Figure size 1100x100 with 11 Axes>"
      ]
     },
     "metadata": {},
     "output_type": "display_data"
    },
    {
     "data": {
      "image/png": "[encoded data removed]",
      "text/plain": [
       "<Figure size 1100x100 with 11 Axes>"
      ]
     },
     "metadata": {},
     "output_type": "display_data"
    },
    {
     "data": {
      "image/png": "[encoded data removed]",
      "text/plain": [
       "<Figure size 1100x100 with 11 Axes>"
      ]
     },
     "metadata": {},
     "output_type": "display_data"
    },
    {
     "data": {
      "image/png": "[encoded data removed]",
      "text/plain": [
       "<Figure size 1100x100 with 11 Axes>"
      ]
     },
     "metadata": {},
     "output_type": "display_data"
    }
   ],
   "source": [
    "f, ax=plt.subplots(1,len(pixels_list), figsize = (11,1))\n",
    "for ii in range(len(pixels_list)):\n",
    "    sb.heatmap(np.reshape(pixels_list[ii],(5,5)), cmap = sb.light_palette(\"purple\"), ax=ax[ii],\n",
    "        cbar=False, yticklabels=False, xticklabels=False )\n",
    "\n",
    "f2, ax=plt.subplots(1,len(pixels_list), figsize = (11,1))\n",
    "for ii in range(len(pixels_list)):\n",
    "    sb.heatmap(np.reshape(pixels_list2[ii],(5,5)), \n",
    "cmap = sb.light_palette(\"navy\"), ax=ax[ii], cbar=False, yticklabels=False, xticklabels=False )\n",
    "\n",
    "f3, ax=plt.subplots(1,len(pixels_list), figsize = (11,1))\n",
    "for ii in range(len(pixels_list)):\n",
    "    sb.heatmap(np.reshape(pixels_list3[ii],(5,5)), \n",
    "cmap = sb.light_palette(\"black\"), ax=ax[ii], cbar=False, yticklabels=False, \n",
    "xticklabels=False )\n",
    "\n",
    "f4, ax=plt.subplots(1,len(pixels_list), figsize = (11,1))\n",
    "for ii in range(len(pixels_list)):\n",
    "    sb.heatmap(np.reshape(pixels_list4[ii],(5,5)), \n",
    "cmap = sb.light_palette(\"red\"), ax=ax[ii], cbar=False, yticklabels=False, \n",
    "xticklabels=False )\n"
   ]
  },
  {
   "cell_type": "code",
   "execution_count": 16,
   "metadata": {},
   "outputs": [],
   "source": [
    "for k in range(1000):\n",
    "    x = rd.randint(0, 8)\n",
    "    min = np.linalg.norm(pixels_list[x]-W[11])\n",
    "    n=11\n",
    "    for i in range(11):\n",
    "        j = np.linalg.norm(pixels_list[x]-W[i])\n",
    "        if j < min:\n",
    "            min = j;\n",
    "            n = i\n",
    "    for z in range(len(W)):\n",
    "        W[z] = W[z] + nu(k)*h(k,n,z)*(pixels_list[x]-W[z])\n",
    "\n",
    "for k in range(8000):\n",
    "    x = rd.randint(0, 8)\n",
    "    min = np.linalg.norm(pixels_list[x]-W[11])\n",
    "    n=11\n",
    "    for i in range(11):\n",
    "        j = np.linalg.norm(pixels_list[x]-W[i])\n",
    "        if j < min:\n",
    "            min = j;\n",
    "            n = i\n",
    "    for z in range(len(W)):\n",
    "            W[z] = W[z] + 0.1*h(k,n,z)*(pixels_list[x]-W[z])\n"
   ]
  },
  {
   "cell_type": "code",
   "execution_count": 17,
   "metadata": {},
   "outputs": [],
   "source": [
    "Test=test(pixels_list,W)\n",
    "Test2=test(pixels_list2,W)\n",
    "Test3=test(pixels_list3, W)\n",
    "Test4=test(pixels_list4, W)\n",
    "\n",
    "er2 = []\n",
    "er3 = []\n",
    "er4 = []\n",
    " \n",
    "for ii in range(len(pixels_list)):\n",
    "    ht=[]\n",
    "    ht2=[]\n",
    "    ht3=[]\n",
    "    ht4=[]\n",
    "    x=pixels_list[ii]\n",
    "    y=pixels_list2[ii]\n",
    "    z=pixels_list3[ii]\n",
    "    v=pixels_list4[ii]\n",
    "\n",
    "    num=0\n",
    "    n=Test[ii]\n",
    "    i=j=0\n",
    "\n",
    "    for i in range(4):\n",
    "        ht.append([])\n",
    "        for j in range(4):\n",
    "            ht[i].append(h(k,n,num))\n",
    "            num+=1\n",
    "    num = 0\n",
    "    n = Test2[ii]\n",
    "    n1 = Test3[ii]\n",
    "    n2 = Test4[ii]\n",
    "    i=j=0\n",
    "    for i in range(4):\n",
    "        ht2.append([])\n",
    "        ht3.append([])\n",
    "        ht4.append([])\n",
    "        for j in range(4):\n",
    "            ht2[i].append(h(k,n,num))\n",
    "            ht3[i].append(h(k,n1,num))\n",
    "            ht4[i].append(h(k,n2,num))\n",
    "            num+=1\n",
    " \n",
    "    if (ht==ht2): \n",
    "        er2.append(1) \n",
    "    else: er2.append(0)\n",
    "    if (ht==ht3): \n",
    "        er3.append(1) \n",
    "    else: er3.append(0)\n",
    "    if (ht==ht4): \n",
    "        er4.append(1) \n",
    "    else: er4.append(0)\n"
   ]
  },
  {
   "cell_type": "code",
   "execution_count": 18,
   "metadata": {},
   "outputs": [
    {
     "name": "stdout",
     "output_type": "stream",
     "text": [
      "\n",
      "    2 changes  3 changes  4 changes\n",
      "D      False       True       True\n",
      "A      False       True       True\n",
      "R       True       True       True\n",
      "I       True      False       True\n",
      "A       True      False       True\n",
      "        True      False      False\n",
      "K      False      False      False\n",
      "I      False       True      False\n",
      "-      False      False      False\n",
      "0       True      False       True\n",
      "2      False       True       True\n",
      "\n",
      "15% changes: 5 -correct | 6 - false | accuracy is 0.455\n",
      "20% changes: 5 - correct | 6 - false | accuracy is 0.455\n",
      "10% changes: 7 - correct | 4 - false | accuracy is 0.636\n"
     ]
    }
   ],
   "source": [
    "symbols = ['D','A','R','I','A','','K','I','-','0','2']\n",
    "df = pd.DataFrame(list(zip(er2, er3, er4)), columns =['2 changes', '3 changes', '4 changes'], index = symbols)\n",
    "\n",
    "for col in df.columns:\n",
    "    df[col]=df[col].map({1:True, 0:False})\n",
    "print('\\n',df)\n",
    "print(f'\\n15% changes: {er2.count(1)} -correct | {er2.count(0)} - false | accuracy is {er2.count(1)/11:.3f}') \n",
    "print(f'20% changes: {er3.count(1)} - correct | {er3.count(0)} - false | accuracy is {er3.count(1)/11:.3f}')\n",
    "print(f'10% changes: {er4.count(1)} - correct | {er4.count(0)} - false | accuracy is {er4.count(1)/11:.3f}')\n"
   ]
  }
 ],
 "metadata": {
  "kernelspec": {
   "display_name": "base",
   "language": "python",
   "name": "python3"
  },
  "language_info": {
   "codemirror_mode": {
    "name": "ipython",
    "version": 3
   },
   "file_extension": ".py",
   "mimetype": "text/x-python",
   "name": "python",
   "nbconvert_exporter": "python",
   "pygments_lexer": "ipython3",
   "version": "3.9.13 (main, Aug 25 2022, 23:51:50) [MSC v.1916 64 bit (AMD64)]"
  },
  "orig_nbformat": 4,
  "vscode": {
   "interpreter": {
    "hash": "e22762127f5efa1ec94896e31261bfe299b9710de2ba631a7bcbd39cd09300d7"
   }
  }
 },
 "nbformat": 4,
 "nbformat_minor": 2
}
